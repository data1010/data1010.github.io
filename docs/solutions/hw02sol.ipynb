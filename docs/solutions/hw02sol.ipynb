{
  "cells": [
    {
      "cell_type": "markdown",
      "source": [
        "<style>\n",
        "@media print\n",
        "{\n",
        "h2 {page-break-before:always}\n",
        "}\n",
        "</style>\n",
        "\n",
        "# Homework 02 Solutions\n",
        "\n",
        "#### Brown University  \n",
        "#### DATA 1010  \n",
        "#### Fall 2019"
      ],
      "metadata": {}
    },
    {
      "cell_type": "markdown",
      "source": [
        "## Problem 1\n",
        "\n",
        "Use matrix differentiation to find the vector $\\mathbf{x} \\in \\mathbb{R}^n$ which minimizes the expression $|W(A\\mathbf{x} − \\mathbf{b})|^2$, where A is an $m \\times n$ matrix and W is an $m \\times m$ matrix. You may assume that $WA$ is full-rank."
      ],
      "metadata": {}
    },
    {
      "cell_type": "markdown",
      "source": [
        "\n",
        "### Solution:\n",
        "\n",
        "We write the given expression as $(W(A\\mathbf{x} − \\mathbf{b}))'W(A\\mathbf{x} − \\mathbf{b})$, which expands to\n",
        "\n",
        "$$\\mathbf{x}' A'W'WA\\mathbf{x} − \\mathbf{b}'W'WA\\mathbf{x} − \\mathbf{x}' A'W'W\\mathbf{b} + \\mathbf{b}'W'W\\mathbf{b}.$$\n",
        "\n",
        "Differentiating with respect to $\\mathbf{x}$, we get \n",
        "\n",
        "$$\\mathbf{x}' A'W'WA - \\mathbf{b}'W'WA$$\n",
        "\n",
        "Setting this equal to 0, we get \n",
        "\n",
        "$$\\mathbf{x}'A'W'WA = \\mathbf{b}'W'WA.$$\n",
        "\n",
        "Transposing both sides and solving for $\\mathbf{x}$, we find that $\\mathbf{x} = (A'W'WA)^{-1}AW'W\\mathbf{b}$. The step of inverting $A'W'WA = (WA)'(WA)$ is valid because it has the same rank as $WA$, which assumed to be $m$."
      ],
      "metadata": {}
    },
    {
      "cell_type": "markdown",
      "source": [
        "## Problem 2\n",
        "\n",
        "Find the derivative of $|\\mathbf{x}|$ with respect to $\\mathbf{x}$. Hint: write $|\\mathbf{x}|$ as $\\sqrt{\\mathbf{x}'\\mathbf{x}}$ and use the chain rule, which says that if $g: \\mathbb{R}_n \\rightarrow \\mathbb{R}$ and $f: \\mathbb{R} → \\mathbb{R}$, then\n",
        "\n",
        " $$\\frac{\\partial}{\\partial \\mathbf{x}}f(g(\\mathbf{x})) = \\frac{\\operatorname{d}f}{\\operatorname{d}t}(g(\\mathbf{x}))\\frac{\\partial g}{\\partial \\mathbf{x}}(\\mathbf{x}).$$\n",
        "\n",
        "Interpret your answer geometrically and explain why it makes sense."
      ],
      "metadata": {}
    },
    {
      "cell_type": "markdown",
      "source": [
        "\n",
        "\n",
        "### Solution:\n",
        "\n",
        "We have\n",
        "\n",
        "$$\\frac{\\partial}{\\partial \\mathbf{x}}(\\sqrt{\\mathbf{x'x}}) = \\frac{1}{2|\\mathbf{x}|}2\\mathbf{x}' = \\frac{\\mathbf{x}'}{|\\mathbf{x}|}$$\n",
        "\n",
        "This is the unit vector in the direction of $\\mathbf{x}$. This makes sense because the direction in which the length of the vector from 0 to $\\mathbf{x}$ increases the fastest is directly away from the origin, and the rate of increase in that direction is 1 distance unit per distance unit."
      ],
      "metadata": {}
    },
    {
      "cell_type": "markdown",
      "source": [
        "## Problem 3\n",
        "\n",
        "(i) Find the line through the origin for which the sum of squared distances from the line to points in the set \n",
        "\n",
        "$$\\{(3, −1),(2, 4),(−1, −1),(−2, 2),(−3, 1),(5, −1),(−2, 4)\\}$$\n",
        "\n",
        "is as small as possible.\n",
        "\n",
        "(ii) Find the slope of the zero-intercept line of best fit for these points using the formula $m = (A'A)^{-1}A'\\mathbf{b}$, where $A$ is a column vector whose entries are the $x$ coordinates of the points and where $\\mathbf{b}$ is a column vector whose components are the $y$-components of the points (in the same order). Recall that this is the line which minimizes $\\sum_i(mx_i - y_i)^2$ where ($x_i$\n",
        ", $y_i$) ranges over the given points.\n",
        "\n",
        "(iii) Draw both of these lines and explain why they are not the same even though they both minimize a sum of squared distances.\n",
        "```Julia\n",
        "using Plots, LinearAlgebra\n",
        "A = [3 2 -1 -2 -3 5 -2; -1 4 -1 2 1 -1 4]\n",
        "scatter(A[1,:], A[2,:])\n",
        "```"
      ],
      "metadata": {}
    },
    {
      "cell_type": "markdown",
      "source": [
        "\n",
        "\n",
        "### Solution:\n",
        "\n",
        "(i) The line through the origin which gets closest to the given points (in the sum-of-squared-distances sense) is the one running along the first column of U in the SVD of\n",
        "\n",
        "$$\\begin{bmatrix}\n",
        "    3 & 2 & -1 & -2 & -3 & 5 & -2\\\\\n",
        "    -1 & 4 & -1 & 2 & 1 & -1 & 4\n",
        "\\end{bmatrix}$$\n",
        "\n",
        "(Or, equivalently, the first column of V in the SVD of the transpose of this matrix). The unit vector representing this line is $[−0.865, 0.502]$.\n",
        "\n",
        "(ii) Using the given formula, we find that the line of best fit through the origin has slope $-\\frac{1}{4}$."
      ],
      "metadata": {}
    },
    {
      "cell_type": "code",
      "source": [
        "using Plots, LinearAlgebra\n",
        "A = [3 2 -1 -2 -3 5 -2; -1 4 -1 2 1 -1 4]\n",
        "scatter(A[1,:], A[2,:])\n",
        "u, Ε, v = svd(A)\n",
        "u"
      ],
      "outputs": [
        {
          "output_type": "execute_result",
          "execution_count": 1,
          "data": {
            "text/plain": [
              "2×2 Array{Float64,2}:\n",
              " -0.86491   0.501927\n",
              "  0.501927  0.86491 "
            ]
          },
          "metadata": {}
        }
      ],
      "execution_count": 1,
      "metadata": {}
    },
    {
      "cell_type": "code",
      "source": [
        "plot!([(5*(-0.86491), 5*(0.501927)), (5*(0.86491), 5*(-0.501927))])"
      ],
      "outputs": [
        {
          "output_type": "execute_result",
          "execution_count": 2,
          "data": {
            "image/svg+xml": [
              "<?xml version=\"1.0\" encoding=\"utf-8\"?>\n",
              "<svg xmlns=\"http://www.w3.org/2000/svg\" xmlns:xlink=\"http://www.w3.org/1999/xlink\" width=\"600\" height=\"400\" viewBox=\"0 0 2400 1600\">\n",
              "<defs>\n",
              "  <clipPath id=\"clip9200\">\n",
              "    <rect x=\"0\" y=\"0\" width=\"2400\" height=\"1600\"/>\n",
              "  </clipPath>\n",
              "</defs>\n",
              "<polygon clip-path=\"url(#clip9200)\" points=\"\n",
              "0,1600 2400,1600 2400,0 0,0 \n",
              "  \" fill=\"#ffffff\" fill-rule=\"evenodd\" fill-opacity=\"1\"/>\n",
              "<defs>\n",
              "  <clipPath id=\"clip9201\">\n",
              "    <rect x=\"480\" y=\"0\" width=\"1681\" height=\"1600\"/>\n",
              "  </clipPath>\n",
              "</defs>\n",
              "<polygon clip-path=\"url(#clip9200)\" points=\"\n",
              "141.865,1487.47 2352.76,1487.47 2352.76,47.2441 141.865,47.2441 \n",
              "  \" fill=\"#ffffff\" fill-rule=\"evenodd\" fill-opacity=\"1\"/>\n",
              "<defs>\n",
              "  <clipPath id=\"clip9202\">\n",
              "    <rect x=\"141\" y=\"47\" width=\"2212\" height=\"1441\"/>\n",
              "  </clipPath>\n",
              "</defs>\n",
              "<polyline clip-path=\"url(#clip9202)\" style=\"stroke:#000000; stroke-width:2; stroke-opacity:0.1; fill:none\" points=\"\n",
              "  277.033,1487.47 277.033,47.2441 \n",
              "  \"/>\n",
              "<polyline clip-path=\"url(#clip9202)\" style=\"stroke:#000000; stroke-width:2; stroke-opacity:0.1; fill:none\" points=\"\n",
              "  724.4,1487.47 724.4,47.2441 \n",
              "  \"/>\n",
              "<polyline clip-path=\"url(#clip9202)\" style=\"stroke:#000000; stroke-width:2; stroke-opacity:0.1; fill:none\" points=\"\n",
              "  1171.77,1487.47 1171.77,47.2441 \n",
              "  \"/>\n",
              "<polyline clip-path=\"url(#clip9202)\" style=\"stroke:#000000; stroke-width:2; stroke-opacity:0.1; fill:none\" points=\"\n",
              "  1619.13,1487.47 1619.13,47.2441 \n",
              "  \"/>\n",
              "<polyline clip-path=\"url(#clip9202)\" style=\"stroke:#000000; stroke-width:2; stroke-opacity:0.1; fill:none\" points=\"\n",
              "  2066.5,1487.47 2066.5,47.2441 \n",
              "  \"/>\n",
              "<polyline clip-path=\"url(#clip9202)\" style=\"stroke:#000000; stroke-width:2; stroke-opacity:0.1; fill:none\" points=\"\n",
              "  141.865,1340.34 2352.76,1340.34 \n",
              "  \"/>\n",
              "<polyline clip-path=\"url(#clip9202)\" style=\"stroke:#000000; stroke-width:2; stroke-opacity:0.1; fill:none\" points=\"\n",
              "  141.865,1131.62 2352.76,1131.62 \n",
              "  \"/>\n",
              "<polyline clip-path=\"url(#clip9202)\" style=\"stroke:#000000; stroke-width:2; stroke-opacity:0.1; fill:none\" points=\"\n",
              "  141.865,922.896 2352.76,922.896 \n",
              "  \"/>\n",
              "<polyline clip-path=\"url(#clip9202)\" style=\"stroke:#000000; stroke-width:2; stroke-opacity:0.1; fill:none\" points=\"\n",
              "  141.865,714.173 2352.76,714.173 \n",
              "  \"/>\n",
              "<polyline clip-path=\"url(#clip9202)\" style=\"stroke:#000000; stroke-width:2; stroke-opacity:0.1; fill:none\" points=\"\n",
              "  141.865,505.451 2352.76,505.451 \n",
              "  \"/>\n",
              "<polyline clip-path=\"url(#clip9202)\" style=\"stroke:#000000; stroke-width:2; stroke-opacity:0.1; fill:none\" points=\"\n",
              "  141.865,296.728 2352.76,296.728 \n",
              "  \"/>\n",
              "<polyline clip-path=\"url(#clip9202)\" style=\"stroke:#000000; stroke-width:2; stroke-opacity:0.1; fill:none\" points=\"\n",
              "  141.865,88.0053 2352.76,88.0053 \n",
              "  \"/>\n",
              "<polyline clip-path=\"url(#clip9200)\" style=\"stroke:#000000; stroke-width:4; stroke-opacity:1; fill:none\" points=\"\n",
              "  141.865,1487.47 2352.76,1487.47 \n",
              "  \"/>\n",
              "<polyline clip-path=\"url(#clip9200)\" style=\"stroke:#000000; stroke-width:4; stroke-opacity:1; fill:none\" points=\"\n",
              "  141.865,1487.47 141.865,47.2441 \n",
              "  \"/>\n",
              "<polyline clip-path=\"url(#clip9200)\" style=\"stroke:#000000; stroke-width:4; stroke-opacity:1; fill:none\" points=\"\n",
              "  277.033,1487.47 277.033,1465.87 \n",
              "  \"/>\n",
              "<polyline clip-path=\"url(#clip9200)\" style=\"stroke:#000000; stroke-width:4; stroke-opacity:1; fill:none\" points=\"\n",
              "  724.4,1487.47 724.4,1465.87 \n",
              "  \"/>\n",
              "<polyline clip-path=\"url(#clip9200)\" style=\"stroke:#000000; stroke-width:4; stroke-opacity:1; fill:none\" points=\"\n",
              "  1171.77,1487.47 1171.77,1465.87 \n",
              "  \"/>\n",
              "<polyline clip-path=\"url(#clip9200)\" style=\"stroke:#000000; stroke-width:4; stroke-opacity:1; fill:none\" points=\"\n",
              "  1619.13,1487.47 1619.13,1465.87 \n",
              "  \"/>\n",
              "<polyline clip-path=\"url(#clip9200)\" style=\"stroke:#000000; stroke-width:4; stroke-opacity:1; fill:none\" points=\"\n",
              "  2066.5,1487.47 2066.5,1465.87 \n",
              "  \"/>\n",
              "<polyline clip-path=\"url(#clip9200)\" style=\"stroke:#000000; stroke-width:4; stroke-opacity:1; fill:none\" points=\"\n",
              "  141.865,1340.34 175.028,1340.34 \n",
              "  \"/>\n",
              "<polyline clip-path=\"url(#clip9200)\" style=\"stroke:#000000; stroke-width:4; stroke-opacity:1; fill:none\" points=\"\n",
              "  141.865,1131.62 175.028,1131.62 \n",
              "  \"/>\n",
              "<polyline clip-path=\"url(#clip9200)\" style=\"stroke:#000000; stroke-width:4; stroke-opacity:1; fill:none\" points=\"\n",
              "  141.865,922.896 175.028,922.896 \n",
              "  \"/>\n",
              "<polyline clip-path=\"url(#clip9200)\" style=\"stroke:#000000; stroke-width:4; stroke-opacity:1; fill:none\" points=\"\n",
              "  141.865,714.173 175.028,714.173 \n",
              "  \"/>\n",
              "<polyline clip-path=\"url(#clip9200)\" style=\"stroke:#000000; stroke-width:4; stroke-opacity:1; fill:none\" points=\"\n",
              "  141.865,505.451 175.028,505.451 \n",
              "  \"/>\n",
              "<polyline clip-path=\"url(#clip9200)\" style=\"stroke:#000000; stroke-width:4; stroke-opacity:1; fill:none\" points=\"\n",
              "  141.865,296.728 175.028,296.728 \n",
              "  \"/>\n",
              "<polyline clip-path=\"url(#clip9200)\" style=\"stroke:#000000; stroke-width:4; stroke-opacity:1; fill:none\" points=\"\n",
              "  141.865,88.0053 175.028,88.0053 \n",
              "  \"/>\n",
              "<g clip-path=\"url(#clip9200)\">\n",
              "<text style=\"fill:#000000; fill-opacity:1; font-family:Arial,Helvetica Neue,Helvetica,sans-serif; font-size:48px; text-anchor:middle;\" transform=\"rotate(0, 277.033, 1541.47)\" x=\"277.033\" y=\"1541.47\">-4</text>\n",
              "</g>\n",
              "<g clip-path=\"url(#clip9200)\">\n",
              "<text style=\"fill:#000000; fill-opacity:1; font-family:Arial,Helvetica Neue,Helvetica,sans-serif; font-size:48px; text-anchor:middle;\" transform=\"rotate(0, 724.4, 1541.47)\" x=\"724.4\" y=\"1541.47\">-2</text>\n",
              "</g>\n",
              "<g clip-path=\"url(#clip9200)\">\n",
              "<text style=\"fill:#000000; fill-opacity:1; font-family:Arial,Helvetica Neue,Helvetica,sans-serif; font-size:48px; text-anchor:middle;\" transform=\"rotate(0, 1171.77, 1541.47)\" x=\"1171.77\" y=\"1541.47\">0</text>\n",
              "</g>\n",
              "<g clip-path=\"url(#clip9200)\">\n",
              "<text style=\"fill:#000000; fill-opacity:1; font-family:Arial,Helvetica Neue,Helvetica,sans-serif; font-size:48px; text-anchor:middle;\" transform=\"rotate(0, 1619.13, 1541.47)\" x=\"1619.13\" y=\"1541.47\">2</text>\n",
              "</g>\n",
              "<g clip-path=\"url(#clip9200)\">\n",
              "<text style=\"fill:#000000; fill-opacity:1; font-family:Arial,Helvetica Neue,Helvetica,sans-serif; font-size:48px; text-anchor:middle;\" transform=\"rotate(0, 2066.5, 1541.47)\" x=\"2066.5\" y=\"1541.47\">4</text>\n",
              "</g>\n",
              "<g clip-path=\"url(#clip9200)\">\n",
              "<text style=\"fill:#000000; fill-opacity:1; font-family:Arial,Helvetica Neue,Helvetica,sans-serif; font-size:48px; text-anchor:end;\" transform=\"rotate(0, 117.865, 1357.84)\" x=\"117.865\" y=\"1357.84\">-2</text>\n",
              "</g>\n",
              "<g clip-path=\"url(#clip9200)\">\n",
              "<text style=\"fill:#000000; fill-opacity:1; font-family:Arial,Helvetica Neue,Helvetica,sans-serif; font-size:48px; text-anchor:end;\" transform=\"rotate(0, 117.865, 1149.12)\" x=\"117.865\" y=\"1149.12\">-1</text>\n",
              "</g>\n",
              "<g clip-path=\"url(#clip9200)\">\n",
              "<text style=\"fill:#000000; fill-opacity:1; font-family:Arial,Helvetica Neue,Helvetica,sans-serif; font-size:48px; text-anchor:end;\" transform=\"rotate(0, 117.865, 940.396)\" x=\"117.865\" y=\"940.396\">0</text>\n",
              "</g>\n",
              "<g clip-path=\"url(#clip9200)\">\n",
              "<text style=\"fill:#000000; fill-opacity:1; font-family:Arial,Helvetica Neue,Helvetica,sans-serif; font-size:48px; text-anchor:end;\" transform=\"rotate(0, 117.865, 731.673)\" x=\"117.865\" y=\"731.673\">1</text>\n",
              "</g>\n",
              "<g clip-path=\"url(#clip9200)\">\n",
              "<text style=\"fill:#000000; fill-opacity:1; font-family:Arial,Helvetica Neue,Helvetica,sans-serif; font-size:48px; text-anchor:end;\" transform=\"rotate(0, 117.865, 522.951)\" x=\"117.865\" y=\"522.951\">2</text>\n",
              "</g>\n",
              "<g clip-path=\"url(#clip9200)\">\n",
              "<text style=\"fill:#000000; fill-opacity:1; font-family:Arial,Helvetica Neue,Helvetica,sans-serif; font-size:48px; text-anchor:end;\" transform=\"rotate(0, 117.865, 314.228)\" x=\"117.865\" y=\"314.228\">3</text>\n",
              "</g>\n",
              "<g clip-path=\"url(#clip9200)\">\n",
              "<text style=\"fill:#000000; fill-opacity:1; font-family:Arial,Helvetica Neue,Helvetica,sans-serif; font-size:48px; text-anchor:end;\" transform=\"rotate(0, 117.865, 105.505)\" x=\"117.865\" y=\"105.505\">4</text>\n",
              "</g>\n",
              "<circle clip-path=\"url(#clip9202)\" style=\"fill:#000000; stroke:none; fill-opacity:1\" cx=\"1842.82\" cy=\"1131.62\" r=\"18\"/>\n",
              "<circle clip-path=\"url(#clip9202)\" style=\"fill:#009af9; stroke:none; fill-opacity:1\" cx=\"1842.82\" cy=\"1131.62\" r=\"14\"/>\n",
              "<circle clip-path=\"url(#clip9202)\" style=\"fill:#000000; stroke:none; fill-opacity:1\" cx=\"1619.13\" cy=\"88.0053\" r=\"18\"/>\n",
              "<circle clip-path=\"url(#clip9202)\" style=\"fill:#009af9; stroke:none; fill-opacity:1\" cx=\"1619.13\" cy=\"88.0053\" r=\"14\"/>\n",
              "<circle clip-path=\"url(#clip9202)\" style=\"fill:#000000; stroke:none; fill-opacity:1\" cx=\"948.083\" cy=\"1131.62\" r=\"18\"/>\n",
              "<circle clip-path=\"url(#clip9202)\" style=\"fill:#009af9; stroke:none; fill-opacity:1\" cx=\"948.083\" cy=\"1131.62\" r=\"14\"/>\n",
              "<circle clip-path=\"url(#clip9202)\" style=\"fill:#000000; stroke:none; fill-opacity:1\" cx=\"724.4\" cy=\"505.451\" r=\"18\"/>\n",
              "<circle clip-path=\"url(#clip9202)\" style=\"fill:#009af9; stroke:none; fill-opacity:1\" cx=\"724.4\" cy=\"505.451\" r=\"14\"/>\n",
              "<circle clip-path=\"url(#clip9202)\" style=\"fill:#000000; stroke:none; fill-opacity:1\" cx=\"500.717\" cy=\"714.173\" r=\"18\"/>\n",
              "<circle clip-path=\"url(#clip9202)\" style=\"fill:#009af9; stroke:none; fill-opacity:1\" cx=\"500.717\" cy=\"714.173\" r=\"14\"/>\n",
              "<circle clip-path=\"url(#clip9202)\" style=\"fill:#000000; stroke:none; fill-opacity:1\" cx=\"2290.18\" cy=\"1131.62\" r=\"18\"/>\n",
              "<circle clip-path=\"url(#clip9202)\" style=\"fill:#009af9; stroke:none; fill-opacity:1\" cx=\"2290.18\" cy=\"1131.62\" r=\"14\"/>\n",
              "<circle clip-path=\"url(#clip9202)\" style=\"fill:#000000; stroke:none; fill-opacity:1\" cx=\"724.4\" cy=\"88.0053\" r=\"18\"/>\n",
              "<circle clip-path=\"url(#clip9202)\" style=\"fill:#009af9; stroke:none; fill-opacity:1\" cx=\"724.4\" cy=\"88.0053\" r=\"14\"/>\n",
              "<polyline clip-path=\"url(#clip9202)\" style=\"stroke:#e26f46; stroke-width:4; stroke-opacity:1; fill:none\" points=\"\n",
              "  204.437,399.078 2139.1,1446.71 \n",
              "  \"/>\n",
              "<polygon clip-path=\"url(#clip9200)\" points=\"\n",
              "1989.93,312.204 2280.76,312.204 2280.76,130.764 1989.93,130.764 \n",
              "  \" fill=\"#ffffff\" fill-rule=\"evenodd\" fill-opacity=\"1\"/>\n",
              "<polyline clip-path=\"url(#clip9200)\" style=\"stroke:#000000; stroke-width:4; stroke-opacity:1; fill:none\" points=\"\n",
              "  1989.93,312.204 2280.76,312.204 2280.76,130.764 1989.93,130.764 1989.93,312.204 \n",
              "  \"/>\n",
              "<circle clip-path=\"url(#clip9200)\" style=\"fill:#000000; stroke:none; fill-opacity:1\" cx=\"2097.93\" cy=\"191.244\" r=\"25\"/>\n",
              "<circle clip-path=\"url(#clip9200)\" style=\"fill:#009af9; stroke:none; fill-opacity:1\" cx=\"2097.93\" cy=\"191.244\" r=\"21\"/>\n",
              "<g clip-path=\"url(#clip9200)\">\n",
              "<text style=\"fill:#000000; fill-opacity:1; font-family:Arial,Helvetica Neue,Helvetica,sans-serif; font-size:48px; text-anchor:start;\" transform=\"rotate(0, 2181.93, 208.744)\" x=\"2181.93\" y=\"208.744\">y1</text>\n",
              "</g>\n",
              "<polyline clip-path=\"url(#clip9200)\" style=\"stroke:#e26f46; stroke-width:4; stroke-opacity:1; fill:none\" points=\"\n",
              "  2013.93,251.724 2157.93,251.724 \n",
              "  \"/>\n",
              "<g clip-path=\"url(#clip9200)\">\n",
              "<text style=\"fill:#000000; fill-opacity:1; font-family:Arial,Helvetica Neue,Helvetica,sans-serif; font-size:48px; text-anchor:start;\" transform=\"rotate(0, 2181.93, 269.224)\" x=\"2181.93\" y=\"269.224\">y2</text>\n",
              "</g>\n",
              "</svg>\n"
            ]
          },
          "metadata": {}
        }
      ],
      "execution_count": 2,
      "metadata": {}
    },
    {
      "cell_type": "code",
      "source": [
        "A = transpose([3 2 -1 -2 -3 5 -2])\n",
        "b = transpose([-1 4 -1 2 1 -1 4])\n",
        "m = inv(transpose(A)*A)*transpose(A)*b"
      ],
      "outputs": [
        {
          "output_type": "execute_result",
          "execution_count": 3,
          "data": {
            "text/plain": [
              "1×1 Array{Float64,2}:\n",
              " -0.25"
            ]
          },
          "metadata": {}
        }
      ],
      "execution_count": 3,
      "metadata": {}
    },
    {
      "cell_type": "code",
      "source": [
        "plot!([(-1, 4), (1, -4)])"
      ],
      "outputs": [
        {
          "output_type": "execute_result",
          "execution_count": 4,
          "data": {
            "image/svg+xml": [
              "<?xml version=\"1.0\" encoding=\"utf-8\"?>\n",
              "<svg xmlns=\"http://www.w3.org/2000/svg\" xmlns:xlink=\"http://www.w3.org/1999/xlink\" width=\"600\" height=\"400\" viewBox=\"0 0 2400 1600\">\n",
              "<defs>\n",
              "  <clipPath id=\"clip9600\">\n",
              "    <rect x=\"0\" y=\"0\" width=\"2400\" height=\"1600\"/>\n",
              "  </clipPath>\n",
              "</defs>\n",
              "<polygon clip-path=\"url(#clip9600)\" points=\"\n",
              "0,1600 2400,1600 2400,0 0,0 \n",
              "  \" fill=\"#ffffff\" fill-rule=\"evenodd\" fill-opacity=\"1\"/>\n",
              "<defs>\n",
              "  <clipPath id=\"clip9601\">\n",
              "    <rect x=\"480\" y=\"0\" width=\"1681\" height=\"1600\"/>\n",
              "  </clipPath>\n",
              "</defs>\n",
              "<polygon clip-path=\"url(#clip9600)\" points=\"\n",
              "141.865,1487.47 2352.76,1487.47 2352.76,47.2441 141.865,47.2441 \n",
              "  \" fill=\"#ffffff\" fill-rule=\"evenodd\" fill-opacity=\"1\"/>\n",
              "<defs>\n",
              "  <clipPath id=\"clip9602\">\n",
              "    <rect x=\"141\" y=\"47\" width=\"2212\" height=\"1441\"/>\n",
              "  </clipPath>\n",
              "</defs>\n",
              "<polyline clip-path=\"url(#clip9602)\" style=\"stroke:#000000; stroke-width:2; stroke-opacity:0.1; fill:none\" points=\"\n",
              "  277.033,1487.47 277.033,47.2441 \n",
              "  \"/>\n",
              "<polyline clip-path=\"url(#clip9602)\" style=\"stroke:#000000; stroke-width:2; stroke-opacity:0.1; fill:none\" points=\"\n",
              "  724.4,1487.47 724.4,47.2441 \n",
              "  \"/>\n",
              "<polyline clip-path=\"url(#clip9602)\" style=\"stroke:#000000; stroke-width:2; stroke-opacity:0.1; fill:none\" points=\"\n",
              "  1171.77,1487.47 1171.77,47.2441 \n",
              "  \"/>\n",
              "<polyline clip-path=\"url(#clip9602)\" style=\"stroke:#000000; stroke-width:2; stroke-opacity:0.1; fill:none\" points=\"\n",
              "  1619.13,1487.47 1619.13,47.2441 \n",
              "  \"/>\n",
              "<polyline clip-path=\"url(#clip9602)\" style=\"stroke:#000000; stroke-width:2; stroke-opacity:0.1; fill:none\" points=\"\n",
              "  2066.5,1487.47 2066.5,47.2441 \n",
              "  \"/>\n",
              "<polyline clip-path=\"url(#clip9602)\" style=\"stroke:#000000; stroke-width:2; stroke-opacity:0.1; fill:none\" points=\"\n",
              "  141.865,1446.71 2352.76,1446.71 \n",
              "  \"/>\n",
              "<polyline clip-path=\"url(#clip9602)\" style=\"stroke:#000000; stroke-width:2; stroke-opacity:0.1; fill:none\" points=\"\n",
              "  141.865,1107.04 2352.76,1107.04 \n",
              "  \"/>\n",
              "<polyline clip-path=\"url(#clip9602)\" style=\"stroke:#000000; stroke-width:2; stroke-opacity:0.1; fill:none\" points=\"\n",
              "  141.865,767.359 2352.76,767.359 \n",
              "  \"/>\n",
              "<polyline clip-path=\"url(#clip9602)\" style=\"stroke:#000000; stroke-width:2; stroke-opacity:0.1; fill:none\" points=\"\n",
              "  141.865,427.682 2352.76,427.682 \n",
              "  \"/>\n",
              "<polyline clip-path=\"url(#clip9602)\" style=\"stroke:#000000; stroke-width:2; stroke-opacity:0.1; fill:none\" points=\"\n",
              "  141.865,88.0053 2352.76,88.0053 \n",
              "  \"/>\n",
              "<polyline clip-path=\"url(#clip9600)\" style=\"stroke:#000000; stroke-width:4; stroke-opacity:1; fill:none\" points=\"\n",
              "  141.865,1487.47 2352.76,1487.47 \n",
              "  \"/>\n",
              "<polyline clip-path=\"url(#clip9600)\" style=\"stroke:#000000; stroke-width:4; stroke-opacity:1; fill:none\" points=\"\n",
              "  141.865,1487.47 141.865,47.2441 \n",
              "  \"/>\n",
              "<polyline clip-path=\"url(#clip9600)\" style=\"stroke:#000000; stroke-width:4; stroke-opacity:1; fill:none\" points=\"\n",
              "  277.033,1487.47 277.033,1465.87 \n",
              "  \"/>\n",
              "<polyline clip-path=\"url(#clip9600)\" style=\"stroke:#000000; stroke-width:4; stroke-opacity:1; fill:none\" points=\"\n",
              "  724.4,1487.47 724.4,1465.87 \n",
              "  \"/>\n",
              "<polyline clip-path=\"url(#clip9600)\" style=\"stroke:#000000; stroke-width:4; stroke-opacity:1; fill:none\" points=\"\n",
              "  1171.77,1487.47 1171.77,1465.87 \n",
              "  \"/>\n",
              "<polyline clip-path=\"url(#clip9600)\" style=\"stroke:#000000; stroke-width:4; stroke-opacity:1; fill:none\" points=\"\n",
              "  1619.13,1487.47 1619.13,1465.87 \n",
              "  \"/>\n",
              "<polyline clip-path=\"url(#clip9600)\" style=\"stroke:#000000; stroke-width:4; stroke-opacity:1; fill:none\" points=\"\n",
              "  2066.5,1487.47 2066.5,1465.87 \n",
              "  \"/>\n",
              "<polyline clip-path=\"url(#clip9600)\" style=\"stroke:#000000; stroke-width:4; stroke-opacity:1; fill:none\" points=\"\n",
              "  141.865,1446.71 175.028,1446.71 \n",
              "  \"/>\n",
              "<polyline clip-path=\"url(#clip9600)\" style=\"stroke:#000000; stroke-width:4; stroke-opacity:1; fill:none\" points=\"\n",
              "  141.865,1107.04 175.028,1107.04 \n",
              "  \"/>\n",
              "<polyline clip-path=\"url(#clip9600)\" style=\"stroke:#000000; stroke-width:4; stroke-opacity:1; fill:none\" points=\"\n",
              "  141.865,767.359 175.028,767.359 \n",
              "  \"/>\n",
              "<polyline clip-path=\"url(#clip9600)\" style=\"stroke:#000000; stroke-width:4; stroke-opacity:1; fill:none\" points=\"\n",
              "  141.865,427.682 175.028,427.682 \n",
              "  \"/>\n",
              "<polyline clip-path=\"url(#clip9600)\" style=\"stroke:#000000; stroke-width:4; stroke-opacity:1; fill:none\" points=\"\n",
              "  141.865,88.0053 175.028,88.0053 \n",
              "  \"/>\n",
              "<g clip-path=\"url(#clip9600)\">\n",
              "<text style=\"fill:#000000; fill-opacity:1; font-family:Arial,Helvetica Neue,Helvetica,sans-serif; font-size:48px; text-anchor:middle;\" transform=\"rotate(0, 277.033, 1541.47)\" x=\"277.033\" y=\"1541.47\">-4</text>\n",
              "</g>\n",
              "<g clip-path=\"url(#clip9600)\">\n",
              "<text style=\"fill:#000000; fill-opacity:1; font-family:Arial,Helvetica Neue,Helvetica,sans-serif; font-size:48px; text-anchor:middle;\" transform=\"rotate(0, 724.4, 1541.47)\" x=\"724.4\" y=\"1541.47\">-2</text>\n",
              "</g>\n",
              "<g clip-path=\"url(#clip9600)\">\n",
              "<text style=\"fill:#000000; fill-opacity:1; font-family:Arial,Helvetica Neue,Helvetica,sans-serif; font-size:48px; text-anchor:middle;\" transform=\"rotate(0, 1171.77, 1541.47)\" x=\"1171.77\" y=\"1541.47\">0</text>\n",
              "</g>\n",
              "<g clip-path=\"url(#clip9600)\">\n",
              "<text style=\"fill:#000000; fill-opacity:1; font-family:Arial,Helvetica Neue,Helvetica,sans-serif; font-size:48px; text-anchor:middle;\" transform=\"rotate(0, 1619.13, 1541.47)\" x=\"1619.13\" y=\"1541.47\">2</text>\n",
              "</g>\n",
              "<g clip-path=\"url(#clip9600)\">\n",
              "<text style=\"fill:#000000; fill-opacity:1; font-family:Arial,Helvetica Neue,Helvetica,sans-serif; font-size:48px; text-anchor:middle;\" transform=\"rotate(0, 2066.5, 1541.47)\" x=\"2066.5\" y=\"1541.47\">4</text>\n",
              "</g>\n",
              "<g clip-path=\"url(#clip9600)\">\n",
              "<text style=\"fill:#000000; fill-opacity:1; font-family:Arial,Helvetica Neue,Helvetica,sans-serif; font-size:48px; text-anchor:end;\" transform=\"rotate(0, 117.865, 1464.21)\" x=\"117.865\" y=\"1464.21\">-4</text>\n",
              "</g>\n",
              "<g clip-path=\"url(#clip9600)\">\n",
              "<text style=\"fill:#000000; fill-opacity:1; font-family:Arial,Helvetica Neue,Helvetica,sans-serif; font-size:48px; text-anchor:end;\" transform=\"rotate(0, 117.865, 1124.54)\" x=\"117.865\" y=\"1124.54\">-2</text>\n",
              "</g>\n",
              "<g clip-path=\"url(#clip9600)\">\n",
              "<text style=\"fill:#000000; fill-opacity:1; font-family:Arial,Helvetica Neue,Helvetica,sans-serif; font-size:48px; text-anchor:end;\" transform=\"rotate(0, 117.865, 784.859)\" x=\"117.865\" y=\"784.859\">0</text>\n",
              "</g>\n",
              "<g clip-path=\"url(#clip9600)\">\n",
              "<text style=\"fill:#000000; fill-opacity:1; font-family:Arial,Helvetica Neue,Helvetica,sans-serif; font-size:48px; text-anchor:end;\" transform=\"rotate(0, 117.865, 445.182)\" x=\"117.865\" y=\"445.182\">2</text>\n",
              "</g>\n",
              "<g clip-path=\"url(#clip9600)\">\n",
              "<text style=\"fill:#000000; fill-opacity:1; font-family:Arial,Helvetica Neue,Helvetica,sans-serif; font-size:48px; text-anchor:end;\" transform=\"rotate(0, 117.865, 105.505)\" x=\"117.865\" y=\"105.505\">4</text>\n",
              "</g>\n",
              "<circle clip-path=\"url(#clip9602)\" style=\"fill:#000000; stroke:none; fill-opacity:1\" cx=\"1842.82\" cy=\"937.198\" r=\"18\"/>\n",
              "<circle clip-path=\"url(#clip9602)\" style=\"fill:#009af9; stroke:none; fill-opacity:1\" cx=\"1842.82\" cy=\"937.198\" r=\"14\"/>\n",
              "<circle clip-path=\"url(#clip9602)\" style=\"fill:#000000; stroke:none; fill-opacity:1\" cx=\"1619.13\" cy=\"88.0053\" r=\"18\"/>\n",
              "<circle clip-path=\"url(#clip9602)\" style=\"fill:#009af9; stroke:none; fill-opacity:1\" cx=\"1619.13\" cy=\"88.0053\" r=\"14\"/>\n",
              "<circle clip-path=\"url(#clip9602)\" style=\"fill:#000000; stroke:none; fill-opacity:1\" cx=\"948.083\" cy=\"937.198\" r=\"18\"/>\n",
              "<circle clip-path=\"url(#clip9602)\" style=\"fill:#009af9; stroke:none; fill-opacity:1\" cx=\"948.083\" cy=\"937.198\" r=\"14\"/>\n",
              "<circle clip-path=\"url(#clip9602)\" style=\"fill:#000000; stroke:none; fill-opacity:1\" cx=\"724.4\" cy=\"427.682\" r=\"18\"/>\n",
              "<circle clip-path=\"url(#clip9602)\" style=\"fill:#009af9; stroke:none; fill-opacity:1\" cx=\"724.4\" cy=\"427.682\" r=\"14\"/>\n",
              "<circle clip-path=\"url(#clip9602)\" style=\"fill:#000000; stroke:none; fill-opacity:1\" cx=\"500.717\" cy=\"597.521\" r=\"18\"/>\n",
              "<circle clip-path=\"url(#clip9602)\" style=\"fill:#009af9; stroke:none; fill-opacity:1\" cx=\"500.717\" cy=\"597.521\" r=\"14\"/>\n",
              "<circle clip-path=\"url(#clip9602)\" style=\"fill:#000000; stroke:none; fill-opacity:1\" cx=\"2290.18\" cy=\"937.198\" r=\"18\"/>\n",
              "<circle clip-path=\"url(#clip9602)\" style=\"fill:#009af9; stroke:none; fill-opacity:1\" cx=\"2290.18\" cy=\"937.198\" r=\"14\"/>\n",
              "<circle clip-path=\"url(#clip9602)\" style=\"fill:#000000; stroke:none; fill-opacity:1\" cx=\"724.4\" cy=\"88.0053\" r=\"18\"/>\n",
              "<circle clip-path=\"url(#clip9602)\" style=\"fill:#009af9; stroke:none; fill-opacity:1\" cx=\"724.4\" cy=\"88.0053\" r=\"14\"/>\n",
              "<polyline clip-path=\"url(#clip9602)\" style=\"stroke:#e26f46; stroke-width:4; stroke-opacity:1; fill:none\" points=\"\n",
              "  204.437,341.127 2139.1,1193.59 \n",
              "  \"/>\n",
              "<polyline clip-path=\"url(#clip9602)\" style=\"stroke:#3da44d; stroke-width:4; stroke-opacity:1; fill:none\" points=\"\n",
              "  948.083,88.0053 1395.45,1446.71 \n",
              "  \"/>\n",
              "<polygon clip-path=\"url(#clip9600)\" points=\"\n",
              "1989.93,372.684 2280.76,372.684 2280.76,130.764 1989.93,130.764 \n",
              "  \" fill=\"#ffffff\" fill-rule=\"evenodd\" fill-opacity=\"1\"/>\n",
              "<polyline clip-path=\"url(#clip9600)\" style=\"stroke:#000000; stroke-width:4; stroke-opacity:1; fill:none\" points=\"\n",
              "  1989.93,372.684 2280.76,372.684 2280.76,130.764 1989.93,130.764 1989.93,372.684 \n",
              "  \"/>\n",
              "<circle clip-path=\"url(#clip9600)\" style=\"fill:#000000; stroke:none; fill-opacity:1\" cx=\"2097.93\" cy=\"191.244\" r=\"25\"/>\n",
              "<circle clip-path=\"url(#clip9600)\" style=\"fill:#009af9; stroke:none; fill-opacity:1\" cx=\"2097.93\" cy=\"191.244\" r=\"21\"/>\n",
              "<g clip-path=\"url(#clip9600)\">\n",
              "<text style=\"fill:#000000; fill-opacity:1; font-family:Arial,Helvetica Neue,Helvetica,sans-serif; font-size:48px; text-anchor:start;\" transform=\"rotate(0, 2181.93, 208.744)\" x=\"2181.93\" y=\"208.744\">y1</text>\n",
              "</g>\n",
              "<polyline clip-path=\"url(#clip9600)\" style=\"stroke:#e26f46; stroke-width:4; stroke-opacity:1; fill:none\" points=\"\n",
              "  2013.93,251.724 2157.93,251.724 \n",
              "  \"/>\n",
              "<g clip-path=\"url(#clip9600)\">\n",
              "<text style=\"fill:#000000; fill-opacity:1; font-family:Arial,Helvetica Neue,Helvetica,sans-serif; font-size:48px; text-anchor:start;\" transform=\"rotate(0, 2181.93, 269.224)\" x=\"2181.93\" y=\"269.224\">y2</text>\n",
              "</g>\n",
              "<polyline clip-path=\"url(#clip9600)\" style=\"stroke:#3da44d; stroke-width:4; stroke-opacity:1; fill:none\" points=\"\n",
              "  2013.93,312.204 2157.93,312.204 \n",
              "  \"/>\n",
              "<g clip-path=\"url(#clip9600)\">\n",
              "<text style=\"fill:#000000; fill-opacity:1; font-family:Arial,Helvetica Neue,Helvetica,sans-serif; font-size:48px; text-anchor:start;\" transform=\"rotate(0, 2181.93, 329.704)\" x=\"2181.93\" y=\"329.704\">y3</text>\n",
              "</g>\n",
              "</svg>\n"
            ]
          },
          "metadata": {}
        }
      ],
      "execution_count": 4,
      "metadata": {}
    },
    {
      "cell_type": "markdown",
      "source": [
        "\n",
        "\n",
        "(iii) These are not the same because the singular vector minimizes the sum of the squared (perpendicular) distances from the line to the points, while the the best-fit minimizes the sum of vertical squared distances."
      ],
      "metadata": {}
    },
    {
      "cell_type": "markdown",
      "source": [
        "## Problem 4\n",
        "\n",
        "Find a value of $x$ which is less than $1$ and for which `1 + x + x + x > 1 + 3x` returns `true` . Explain this behavior."
      ],
      "metadata": {}
    },
    {
      "cell_type": "markdown",
      "source": [
        "\n",
        "\n",
        "### Solution:\n",
        "\n",
        "Let $x$ be a number slightly larger than the gap between 1 and the first representable value greater than 1, like $2^{-53} + 2^{-57}$. This number is a bit larger than half the gap $\\epsilon$ between representable values between 1 and 2. Then each addition of $x$ takes us up to the next representable float value. Meanwhile, $3x$ is less than $2\\epsilon$ and will therefore be smaller than the result of successively adding $x$ three times."
      ],
      "metadata": {}
    },
    {
      "cell_type": "markdown",
      "source": [
        "## Problem 5\n",
        "\n",
        "Explain why the following function returns a value rather than running forever. Explain why it returns the particular value that it returns.\n",
        "\n",
        "```Julia\n",
        "function countdown()\n",
        "    x = 1.0\n",
        "    ctr = 0\n",
        "    while x > 0.0\n",
        "        x /= 2\n",
        "        ctr += 1\n",
        "    end\n",
        "    ctr\n",
        "end\n",
        "```"
      ],
      "metadata": {}
    },
    {
      "cell_type": "markdown",
      "source": [
        "\n",
        "\n",
        "### Solution:\n",
        "\n",
        "The function returns 1075. The reason it does not run forever is that eventually `x` reaches the smallest representable number ($2^{-1074}$), at which point halving results in rounding to zero. It takes 1074 steps to get to $2^{-1074}$ and then one more to get to a number which rounds to zero, for a total of 1075 steps."
      ],
      "metadata": {}
    },
    {
      "cell_type": "markdown",
      "source": [
        "## Problem 6\n",
        "\n",
        "Show that an invertible, square matrix and its inverse have the same condition number."
      ],
      "metadata": {}
    },
    {
      "cell_type": "markdown",
      "source": [
        "\n",
        "\n",
        "### Solution:\n",
        "\n",
        "If $A = U\\Sigma V'$ is the SVD of $A$, then the SVD of the inverse of $A$ is $V\\Sigma^{-1}U'$. Therefore, the singular values of the inverse of $A$ are the reciprocals of the singular values of $A$. Thus the largest singular value of the inverse of $A$ is the reciprocal of the smallest singular value of $A$, and the smallest singular value is the reciprocal of $A'$s largest. Thus the largest-to-smallest ratio of $A$'s singular values and is equal to the largest-to-smallest ratio of $A^{-1}$."
      ],
      "metadata": {}
    },
    {
      "cell_type": "markdown",
      "source": [
        "## Problem 7\n",
        "\n",
        "Consider the $n \\times n$ Frank matrix $F_n$, defined as shown in the code block below.\n",
        "\n",
        "```Julia\n",
        "function frankmatrix(n)\n",
        "    A = zeros(n,n)\n",
        "    for i=1:n\n",
        "        for j=1:n\n",
        "            if j == i-1\n",
        "                A[i,j] = n + 1 - i\n",
        "            elseif j ≥ i\n",
        "                A[i,j] = n + 1 - j\n",
        "            end\n",
        "        end\n",
        "    end\n",
        "    A\n",
        "end\n",
        "```\n",
        "\n",
        "Find $F^{-1}_n \\mathbf{v}$, where $\\mathbf{v} \\in \\mathbb{R}_n$ has all components equal to 1, by inspection. (Generate $F_n$ for some small values of $n$ and look at it).\n",
        "\n",
        "Evaluate ` frankmatrix(n) \\ ones(n) ` for $n \\in {10, 15, 20, 25, 30}$ and calculate the norm of the difference between this numerical solution and the true solution. Compare your result to the product of `eps()` (which equals $2^{−52}$, the gap between $1$ and the nearest representable $64$-bit floating point) and the condition number of $F_n$ (which can be calculated using the function `cond`). Hint: a good way to do this comparison is to plot the log of each of these quantities over the specified range of $n$ values.\n",
        "\n",
        "Based on your findings, comment on whether the algorithm being used for `\\` is stable."
      ],
      "metadata": {}
    },
    {
      "cell_type": "markdown",
      "source": [
        "\n",
        "\n",
        "### Solution:\n",
        "\n",
        "We calculate the error and plot it as a function of n, as well as computing the condition number and plotting that:"
      ],
      "metadata": {}
    },
    {
      "cell_type": "code",
      "source": [
        "function frankmatrix(n)\n",
        "    A = zeros(n,n)\n",
        "    for i=1:n\n",
        "        for j=1:n\n",
        "            if j == i-1\n",
        "                A[i,j] = n + 1 - i\n",
        "            elseif j ≥ i\n",
        "                A[i,j] = n + 1 - j\n",
        "            end\n",
        "        end\n",
        "    end\n",
        "    A\n",
        "end"
      ],
      "outputs": [
        {
          "output_type": "execute_result",
          "execution_count": 5,
          "data": {
            "text/plain": [
              "frankmatrix (generic function with 1 method)"
            ]
          },
          "metadata": {}
        }
      ],
      "execution_count": 5,
      "metadata": {}
    },
    {
      "cell_type": "code",
      "source": [
        "function solve_error(n) \n",
        "    A = frankmatrix(n) \n",
        "    b = ones(n) \n",
        "    x=A\\b \n",
        "    norm(x - [zeros(n-1);[1]]) \n",
        "end\n",
        "\n",
        "r = 10:5:30\n",
        "plot(r,[log(solve_error(k)) for k=r], label=\"solve error\") \n",
        "plot!(r,[log(cond(frankmatrix(k))*eps()) for k=r], label = \"kappa * epsilon\")"
      ],
      "outputs": [
        {
          "output_type": "execute_result",
          "execution_count": 6,
          "data": {
            "image/svg+xml": [
              "<?xml version=\"1.0\" encoding=\"utf-8\"?>\n",
              "<svg xmlns=\"http://www.w3.org/2000/svg\" xmlns:xlink=\"http://www.w3.org/1999/xlink\" width=\"600\" height=\"400\" viewBox=\"0 0 2400 1600\">\n",
              "<defs>\n",
              "  <clipPath id=\"clip0000\">\n",
              "    <rect x=\"0\" y=\"0\" width=\"2400\" height=\"1600\"/>\n",
              "  </clipPath>\n",
              "</defs>\n",
              "<polygon clip-path=\"url(#clip0000)\" points=\"\n",
              "0,1600 2400,1600 2400,0 0,0 \n",
              "  \" fill=\"#ffffff\" fill-rule=\"evenodd\" fill-opacity=\"1\"/>\n",
              "<defs>\n",
              "  <clipPath id=\"clip0001\">\n",
              "    <rect x=\"480\" y=\"0\" width=\"1681\" height=\"1600\"/>\n",
              "  </clipPath>\n",
              "</defs>\n",
              "<polygon clip-path=\"url(#clip0000)\" points=\"\n",
              "168.627,1487.47 2352.76,1487.47 2352.76,47.2441 168.627,47.2441 \n",
              "  \" fill=\"#ffffff\" fill-rule=\"evenodd\" fill-opacity=\"1\"/>\n",
              "<defs>\n",
              "  <clipPath id=\"clip0002\">\n",
              "    <rect x=\"168\" y=\"47\" width=\"2185\" height=\"1441\"/>\n",
              "  </clipPath>\n",
              "</defs>\n",
              "<polyline clip-path=\"url(#clip0002)\" style=\"stroke:#000000; stroke-width:2; stroke-opacity:0.1; fill:none\" points=\"\n",
              "  230.442,1487.47 230.442,47.2441 \n",
              "  \"/>\n",
              "<polyline clip-path=\"url(#clip0002)\" style=\"stroke:#000000; stroke-width:2; stroke-opacity:0.1; fill:none\" points=\"\n",
              "  745.567,1487.47 745.567,47.2441 \n",
              "  \"/>\n",
              "<polyline clip-path=\"url(#clip0002)\" style=\"stroke:#000000; stroke-width:2; stroke-opacity:0.1; fill:none\" points=\"\n",
              "  1260.69,1487.47 1260.69,47.2441 \n",
              "  \"/>\n",
              "<polyline clip-path=\"url(#clip0002)\" style=\"stroke:#000000; stroke-width:2; stroke-opacity:0.1; fill:none\" points=\"\n",
              "  1775.82,1487.47 1775.82,47.2441 \n",
              "  \"/>\n",
              "<polyline clip-path=\"url(#clip0002)\" style=\"stroke:#000000; stroke-width:2; stroke-opacity:0.1; fill:none\" points=\"\n",
              "  2290.94,1487.47 2290.94,47.2441 \n",
              "  \"/>\n",
              "<polyline clip-path=\"url(#clip0002)\" style=\"stroke:#000000; stroke-width:2; stroke-opacity:0.1; fill:none\" points=\"\n",
              "  168.627,1322.96 2352.76,1322.96 \n",
              "  \"/>\n",
              "<polyline clip-path=\"url(#clip0002)\" style=\"stroke:#000000; stroke-width:2; stroke-opacity:0.1; fill:none\" points=\"\n",
              "  168.627,1076.24 2352.76,1076.24 \n",
              "  \"/>\n",
              "<polyline clip-path=\"url(#clip0002)\" style=\"stroke:#000000; stroke-width:2; stroke-opacity:0.1; fill:none\" points=\"\n",
              "  168.627,829.506 2352.76,829.506 \n",
              "  \"/>\n",
              "<polyline clip-path=\"url(#clip0002)\" style=\"stroke:#000000; stroke-width:2; stroke-opacity:0.1; fill:none\" points=\"\n",
              "  168.627,582.777 2352.76,582.777 \n",
              "  \"/>\n",
              "<polyline clip-path=\"url(#clip0002)\" style=\"stroke:#000000; stroke-width:2; stroke-opacity:0.1; fill:none\" points=\"\n",
              "  168.627,336.047 2352.76,336.047 \n",
              "  \"/>\n",
              "<polyline clip-path=\"url(#clip0002)\" style=\"stroke:#000000; stroke-width:2; stroke-opacity:0.1; fill:none\" points=\"\n",
              "  168.627,89.3182 2352.76,89.3182 \n",
              "  \"/>\n",
              "<polyline clip-path=\"url(#clip0000)\" style=\"stroke:#000000; stroke-width:4; stroke-opacity:1; fill:none\" points=\"\n",
              "  168.627,1487.47 2352.76,1487.47 \n",
              "  \"/>\n",
              "<polyline clip-path=\"url(#clip0000)\" style=\"stroke:#000000; stroke-width:4; stroke-opacity:1; fill:none\" points=\"\n",
              "  168.627,1487.47 168.627,47.2441 \n",
              "  \"/>\n",
              "<polyline clip-path=\"url(#clip0000)\" style=\"stroke:#000000; stroke-width:4; stroke-opacity:1; fill:none\" points=\"\n",
              "  230.442,1487.47 230.442,1465.87 \n",
              "  \"/>\n",
              "<polyline clip-path=\"url(#clip0000)\" style=\"stroke:#000000; stroke-width:4; stroke-opacity:1; fill:none\" points=\"\n",
              "  745.567,1487.47 745.567,1465.87 \n",
              "  \"/>\n",
              "<polyline clip-path=\"url(#clip0000)\" style=\"stroke:#000000; stroke-width:4; stroke-opacity:1; fill:none\" points=\"\n",
              "  1260.69,1487.47 1260.69,1465.87 \n",
              "  \"/>\n",
              "<polyline clip-path=\"url(#clip0000)\" style=\"stroke:#000000; stroke-width:4; stroke-opacity:1; fill:none\" points=\"\n",
              "  1775.82,1487.47 1775.82,1465.87 \n",
              "  \"/>\n",
              "<polyline clip-path=\"url(#clip0000)\" style=\"stroke:#000000; stroke-width:4; stroke-opacity:1; fill:none\" points=\"\n",
              "  2290.94,1487.47 2290.94,1465.87 \n",
              "  \"/>\n",
              "<polyline clip-path=\"url(#clip0000)\" style=\"stroke:#000000; stroke-width:4; stroke-opacity:1; fill:none\" points=\"\n",
              "  168.627,1322.96 201.389,1322.96 \n",
              "  \"/>\n",
              "<polyline clip-path=\"url(#clip0000)\" style=\"stroke:#000000; stroke-width:4; stroke-opacity:1; fill:none\" points=\"\n",
              "  168.627,1076.24 201.389,1076.24 \n",
              "  \"/>\n",
              "<polyline clip-path=\"url(#clip0000)\" style=\"stroke:#000000; stroke-width:4; stroke-opacity:1; fill:none\" points=\"\n",
              "  168.627,829.506 201.389,829.506 \n",
              "  \"/>\n",
              "<polyline clip-path=\"url(#clip0000)\" style=\"stroke:#000000; stroke-width:4; stroke-opacity:1; fill:none\" points=\"\n",
              "  168.627,582.777 201.389,582.777 \n",
              "  \"/>\n",
              "<polyline clip-path=\"url(#clip0000)\" style=\"stroke:#000000; stroke-width:4; stroke-opacity:1; fill:none\" points=\"\n",
              "  168.627,336.047 201.389,336.047 \n",
              "  \"/>\n",
              "<polyline clip-path=\"url(#clip0000)\" style=\"stroke:#000000; stroke-width:4; stroke-opacity:1; fill:none\" points=\"\n",
              "  168.627,89.3182 201.389,89.3182 \n",
              "  \"/>\n",
              "<g clip-path=\"url(#clip0000)\">\n",
              "<text style=\"fill:#000000; fill-opacity:1; font-family:Arial,Helvetica Neue,Helvetica,sans-serif; font-size:48px; text-anchor:middle;\" transform=\"rotate(0, 230.442, 1541.47)\" x=\"230.442\" y=\"1541.47\">10</text>\n",
              "</g>\n",
              "<g clip-path=\"url(#clip0000)\">\n",
              "<text style=\"fill:#000000; fill-opacity:1; font-family:Arial,Helvetica Neue,Helvetica,sans-serif; font-size:48px; text-anchor:middle;\" transform=\"rotate(0, 745.567, 1541.47)\" x=\"745.567\" y=\"1541.47\">15</text>\n",
              "</g>\n",
              "<g clip-path=\"url(#clip0000)\">\n",
              "<text style=\"fill:#000000; fill-opacity:1; font-family:Arial,Helvetica Neue,Helvetica,sans-serif; font-size:48px; text-anchor:middle;\" transform=\"rotate(0, 1260.69, 1541.47)\" x=\"1260.69\" y=\"1541.47\">20</text>\n",
              "</g>\n",
              "<g clip-path=\"url(#clip0000)\">\n",
              "<text style=\"fill:#000000; fill-opacity:1; font-family:Arial,Helvetica Neue,Helvetica,sans-serif; font-size:48px; text-anchor:middle;\" transform=\"rotate(0, 1775.82, 1541.47)\" x=\"1775.82\" y=\"1541.47\">25</text>\n",
              "</g>\n",
              "<g clip-path=\"url(#clip0000)\">\n",
              "<text style=\"fill:#000000; fill-opacity:1; font-family:Arial,Helvetica Neue,Helvetica,sans-serif; font-size:48px; text-anchor:middle;\" transform=\"rotate(0, 2290.94, 1541.47)\" x=\"2290.94\" y=\"1541.47\">30</text>\n",
              "</g>\n",
              "<g clip-path=\"url(#clip0000)\">\n",
              "<text style=\"fill:#000000; fill-opacity:1; font-family:Arial,Helvetica Neue,Helvetica,sans-serif; font-size:48px; text-anchor:end;\" transform=\"rotate(0, 144.627, 1340.46)\" x=\"144.627\" y=\"1340.46\">-20</text>\n",
              "</g>\n",
              "<g clip-path=\"url(#clip0000)\">\n",
              "<text style=\"fill:#000000; fill-opacity:1; font-family:Arial,Helvetica Neue,Helvetica,sans-serif; font-size:48px; text-anchor:end;\" transform=\"rotate(0, 144.627, 1093.74)\" x=\"144.627\" y=\"1093.74\">-15</text>\n",
              "</g>\n",
              "<g clip-path=\"url(#clip0000)\">\n",
              "<text style=\"fill:#000000; fill-opacity:1; font-family:Arial,Helvetica Neue,Helvetica,sans-serif; font-size:48px; text-anchor:end;\" transform=\"rotate(0, 144.627, 847.006)\" x=\"144.627\" y=\"847.006\">-10</text>\n",
              "</g>\n",
              "<g clip-path=\"url(#clip0000)\">\n",
              "<text style=\"fill:#000000; fill-opacity:1; font-family:Arial,Helvetica Neue,Helvetica,sans-serif; font-size:48px; text-anchor:end;\" transform=\"rotate(0, 144.627, 600.277)\" x=\"144.627\" y=\"600.277\">-5</text>\n",
              "</g>\n",
              "<g clip-path=\"url(#clip0000)\">\n",
              "<text style=\"fill:#000000; fill-opacity:1; font-family:Arial,Helvetica Neue,Helvetica,sans-serif; font-size:48px; text-anchor:end;\" transform=\"rotate(0, 144.627, 353.547)\" x=\"144.627\" y=\"353.547\">0</text>\n",
              "</g>\n",
              "<g clip-path=\"url(#clip0000)\">\n",
              "<text style=\"fill:#000000; fill-opacity:1; font-family:Arial,Helvetica Neue,Helvetica,sans-serif; font-size:48px; text-anchor:end;\" transform=\"rotate(0, 144.627, 106.818)\" x=\"144.627\" y=\"106.818\">5</text>\n",
              "</g>\n",
              "<polyline clip-path=\"url(#clip0002)\" style=\"stroke:#009af9; stroke-width:4; stroke-opacity:1; fill:none\" points=\"\n",
              "  230.442,1446.71 745.567,849.825 1260.69,346.863 1775.82,422.778 2290.94,278.881 \n",
              "  \"/>\n",
              "<polyline clip-path=\"url(#clip0002)\" style=\"stroke:#e26f46; stroke-width:4; stroke-opacity:1; fill:none\" points=\"\n",
              "  230.442,1267.54 745.567,621.975 1260.69,121.702 1775.82,99.3531 2290.94,88.0053 \n",
              "  \"/>\n",
              "<polygon clip-path=\"url(#clip0000)\" points=\"\n",
              "1711.67,312.204 2280.76,312.204 2280.76,130.764 1711.67,130.764 \n",
              "  \" fill=\"#ffffff\" fill-rule=\"evenodd\" fill-opacity=\"1\"/>\n",
              "<polyline clip-path=\"url(#clip0000)\" style=\"stroke:#000000; stroke-width:4; stroke-opacity:1; fill:none\" points=\"\n",
              "  1711.67,312.204 2280.76,312.204 2280.76,130.764 1711.67,130.764 1711.67,312.204 \n",
              "  \"/>\n",
              "<polyline clip-path=\"url(#clip0000)\" style=\"stroke:#009af9; stroke-width:4; stroke-opacity:1; fill:none\" points=\"\n",
              "  1735.67,191.244 1879.67,191.244 \n",
              "  \"/>\n",
              "<g clip-path=\"url(#clip0000)\">\n",
              "<text style=\"fill:#000000; fill-opacity:1; font-family:Arial,Helvetica Neue,Helvetica,sans-serif; font-size:48px; text-anchor:start;\" transform=\"rotate(0, 1903.67, 208.744)\" x=\"1903.67\" y=\"208.744\">solve error</text>\n",
              "</g>\n",
              "<polyline clip-path=\"url(#clip0000)\" style=\"stroke:#e26f46; stroke-width:4; stroke-opacity:1; fill:none\" points=\"\n",
              "  1735.67,251.724 1879.67,251.724 \n",
              "  \"/>\n",
              "<g clip-path=\"url(#clip0000)\">\n",
              "<text style=\"fill:#000000; fill-opacity:1; font-family:Arial,Helvetica Neue,Helvetica,sans-serif; font-size:48px; text-anchor:start;\" transform=\"rotate(0, 1903.67, 269.224)\" x=\"1903.67\" y=\"269.224\">kappa * epsilon</text>\n",
              "</g>\n",
              "</svg>\n"
            ]
          },
          "metadata": {}
        }
      ],
      "execution_count": 6,
      "metadata": {}
    },
    {
      "cell_type": "markdown",
      "source": [
        "We see that the error is actually less than $\\kappa(F_n)\\epsilon$. Even though the error is large when $n$ is large, it is not large compared to the condition number of the matrix. Therefore, the algorithm used for `\\` does appear to be stable."
      ],
      "metadata": {}
    },
    {
      "cell_type": "markdown",
      "source": [
        "## Problem 8\n",
        "\n",
        "Consider the function $f(x) = (x^4 - 2x^3 - x^2 + 3x - 1)\\operatorname{e}^{-x^2/4}$. Implement the gradient descent algorithm for finding the minimum of this function. \n",
        "\n",
        "<img src=\"polynomial-minimize.svg\" style=\"float: right;\" width=450px>\n",
        "\n",
        " * If the learning rate is $\\epsilon = 0.1$, which values of\n",
        "      $x_0$ have the property that $f(x_n)$ is close to the global\n",
        "      minimum of $f$ when $n$ is large? \n",
        " * Is there a starting value $x_0$ between $-2$ and $-1$ and a\n",
        "      learning rate $\\epsilon$ such that the gradient descent\n",
        "      algorithm does not reach the global minimum of $f$? Use\n",
        "      the graph for intuition.\n",
        "      \n",
        "      "
      ],
      "metadata": {}
    },
    {
      "cell_type": "markdown",
      "source": [
        "\n",
        "### Solution:\n",
        "\n",
        "The following is an implementation of gradient descent: "
      ],
      "metadata": {}
    },
    {
      "cell_type": "code",
      "source": [
        "using LinearAlgebra, ForwardDiff\n",
        "function graddescent(f,x0,ε,threshold)\n",
        "    ForwardDiff.derivative(f, x)\n",
        "    x = x0\n",
        "    while abs(df(x)) > threshold\n",
        "        x = x - ε*df(x)\n",
        "    end\n",
        "    x\n",
        "end\n",
        "f(t) = exp(-t^2/4)*(t^4 - 2t^3 - t^2 + 3t - I)"
      ],
      "outputs": [
        {
          "output_type": "execute_result",
          "execution_count": 7,
          "data": {
            "text/plain": [
              "f (generic function with 1 method)"
            ]
          },
          "metadata": {}
        }
      ],
      "execution_count": 7,
      "metadata": {}
    },
    {
      "cell_type": "markdown",
      "source": [
        "* Trying various values of $x_0$, and looking at the graph, we conjecture that the global minimum is reached when the starting value $x_0$ is between the first two points where $f$ has a local maximum (approximately $-2.83$ and $0.145$). Between $0.145$ and the next local maximum (approximately $2.94$), the algorithm leads us to the local minimum around $x = 1.45$. Outside the interval from the first local maximum the last, the sequence of iterates appears to head off to $-\\infty$ or $+\\infty$.\n",
        "\n",
        "* Skipping over the global minimum to the local one requires choosing $\\epsilon$ large enough that the first jump skips over the local maximum at $0.145$. A little experimentation shows that $x = -1.5$ and $\\epsilon = 0.25$ works (among many other possibilities)."
      ],
      "metadata": {}
    },
    {
      "cell_type": "markdown",
      "source": [
        "## Problem 9\n",
        "\n",
        "Calculate, by hand, the gradient and Hessian of the function shown below. Show that the values returned by the ForwardDiff package are correct."
      ],
      "metadata": {}
    },
    {
      "cell_type": "code",
      "source": [
        "using ForwardDiff\n",
        "f(x,y) = x^2 + y^2 - 2y\n",
        "f(v::Vector) = f(v...) # equivalent to f(v[1],v[2]) \n",
        "x = [1.5,-3.25]\n",
        "ForwardDiff.gradient(f,x)"
      ],
      "outputs": [
        {
          "output_type": "execute_result",
          "execution_count": 8,
          "data": {
            "text/plain": [
              "2-element Array{Float64,1}:\n",
              "  3.0\n",
              " -8.5"
            ]
          },
          "metadata": {}
        }
      ],
      "execution_count": 8,
      "metadata": {}
    },
    {
      "cell_type": "code",
      "source": [
        "ForwardDiff.hessian(f,x)"
      ],
      "outputs": [
        {
          "output_type": "execute_result",
          "execution_count": 9,
          "data": {
            "text/plain": [
              "2×2 Array{Float64,2}:\n",
              " 2.0  0.0\n",
              " 0.0  2.0"
            ]
          },
          "metadata": {}
        }
      ],
      "execution_count": 9,
      "metadata": {}
    },
    {
      "cell_type": "markdown",
      "source": [
        "\n",
        "\n",
        "### Solution:\n",
        "\n",
        "The gradient is $[2x, 2y − 2]$. Therefore, the gradient at $[1.5, −3.25]$ is $[3.0, −8.5]$. This is indeed the value returned by `ForwardDiff.gradient`.\n",
        "\n",
        "The Hessian is\n",
        "\n",
        "$$\\begin{bmatrix} \\partial^2_xf & \\partial_{xy}f \\\\ \\partial_{xy}f & \\partial^2_yf \\end{bmatrix} = \\begin{bmatrix} 2 & 0 \\\\ 0 & 2 \\end{bmatrix}.$$\n",
        "\n",
        "This is the matrix returned by `ForwardDiff.hessian`."
      ],
      "metadata": {}
    },
    {
      "cell_type": "markdown",
      "source": [
        "## Problem 10\n",
        "\n",
        "Consider the following PRNG (which was actually widely used in the early 1970s): we begin with an odd positive integer $a_1$ less than $2^{31}$ and for all $n \\geq 2$, we define $a_n$ to be the remainder when dividing $65539a_{n-1}$ by $2^{31}$.\n",
        "\n",
        "Use Julia to calculate $9a_{3n+1} - 6 a_{3n+2} + a_{3n+3}$ for the first $10^6$ values of $n$, and show that there are only \\textit{15} unique values in the resulting list (!). Explain what you would see if you plotted many points of the form $(a_{3n+1},a_{3n+2},a_{3n+3})$ in three-dimensional space."
      ],
      "metadata": {}
    },
    {
      "cell_type": "markdown",
      "source": [
        "\n",
        "### Solution:\n",
        "\n",
        "We generate the first $3,000,003$ elements of the sequence and convert the suggested linear combination into set to see how many distinct elements it contains. Indeed, there are only 15:\n",
        "```Julia\n",
        "A = [seed]\n",
        "for i=1:3*10^6+2\n",
        "    push!(A,mod(65539*A[end],2^31)) \n",
        "end\n",
        "length(Set([[9,-6,1]⋅A[3n+1:3n+3] for n=0:10^6])) \n",
        "# returns 15\n",
        "```\n",
        "In other words, splitting the sequence into blocks of three and plotting the points in 3D space shows us a collection of 15 planes such that every point lies on one of those planes."
      ],
      "metadata": {}
    }
  ],
  "metadata": {
    "kernelspec": {
      "name": "julia-1.1",
      "language": "julia",
      "display_name": "Julia 1.1.1"
    },
    "language_info": {
      "file_extension": ".jl",
      "name": "julia",
      "mimetype": "application/julia",
      "version": "1.1.1"
    },
    "kernel_info": {
      "name": "julia-1.1"
    },
    "nteract": {
      "version": "0.15.0"
    }
  },
  "nbformat": 4,
  "nbformat_minor": 4
}